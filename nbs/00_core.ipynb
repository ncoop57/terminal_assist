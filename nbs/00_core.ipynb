{
 "cells": [
  {
   "cell_type": "markdown",
   "metadata": {},
   "source": [
    "# core\n",
    "\n",
    "> Fill in a module description here"
   ]
  },
  {
   "cell_type": "code",
   "execution_count": null,
   "metadata": {},
   "outputs": [],
   "source": [
    "#| default_exp core"
   ]
  },
  {
   "cell_type": "code",
   "execution_count": null,
   "metadata": {},
   "outputs": [],
   "source": [
    "#| export\n",
    "import terminal_assist\n",
    "\n",
    "from langchain.chat_models import ChatOpenAI\n",
    "from langchain.schema import (\n",
    "    AIMessage,\n",
    "    HumanMessage,\n",
    "    SystemMessage\n",
    ")\n",
    "from rich.panel import Panel\n",
    "from rich.text import Text\n",
    "from textual.app import App, ComposeResult\n",
    "from textual.containers import Container\n",
    "from textual.widgets import Footer, Header, Input, TextLog"
   ]
  },
  {
   "cell_type": "code",
   "execution_count": null,
   "metadata": {},
   "outputs": [],
   "source": [
    "#| hide\n",
    "from nbdev.showdoc import *"
   ]
  },
  {
   "cell_type": "code",
   "execution_count": null,
   "metadata": {},
   "outputs": [],
   "source": [
    "#| export\n",
    "LIB_PATH = terminal_assist.__path__[0]"
   ]
  },
  {
   "cell_type": "code",
   "execution_count": null,
   "metadata": {},
   "outputs": [],
   "source": [
    "#| export\n",
    "class TerminalAssistant(App):\n",
    "    \"\"\"A Textual app gives you a personal assistant in your terminal.\"\"\"\n",
    "\n",
    "    BINDINGS = [(\"d\", \"toggle_dark\", \"Toggle dark mode\")]\n",
    "    CSS_PATH = LIB_PATH + \"/style/style.css\"\n",
    "    messages = [SystemMessage(content=\"You are a helpful assistant that helps a user with tasks in their terminal.\")]\n",
    "    chatbot = ChatOpenAI(temperature=0)\n",
    "\n",
    "    def compose(self) -> ComposeResult:\n",
    "        \"\"\"Create child widgets for the app.\"\"\"\n",
    "        yield Header()\n",
    "        yield TextLog(highlight=True, markup=True)\n",
    "        yield Input()\n",
    "        yield Footer()\n",
    "\n",
    "    def on_ready(self) -> None:\n",
    "        \"\"\"Called  when the DOM is ready.\"\"\"\n",
    "        text_log = self.query_one(TextLog)\n",
    "\n",
    "        # text_log.write(Syntax(CODE, \"python\", indent_guides=True))\n",
    "        text_log.write(\"[bold magenta]Write text or any Rich renderable!\")\n",
    "    \n",
    "    def on_input_submitted(self, message: Input.Submitted) -> None:\n",
    "        \"\"\"Called when the user submits input.\"\"\"\n",
    "        text = message.value\n",
    "        self.messages.append(HumanMessage(content=text))\n",
    "        text_log = self.query_one(TextLog)\n",
    "        text_log.write(text)\n",
    "        res = self.chatbot(self.messages)\n",
    "        self.messages.append(res)\n",
    "        text_log.write(f\"[bold magenta]{res.content}\")\n",
    "\n",
    "        input = self.query_one(Input)\n",
    "        input.value = \"\"\n",
    "\n",
    "    def action_toggle_dark(self) -> None:\n",
    "        \"\"\"An action to toggle dark mode.\"\"\"\n",
    "        self.dark = not self.dark"
   ]
  },
  {
   "cell_type": "code",
   "execution_count": 1,
   "metadata": {},
   "outputs": [],
   "source": [
    "#| hide\n",
    "import nbdev; nbdev.nbdev_export()"
   ]
  }
 ],
 "metadata": {
  "kernelspec": {
   "display_name": "Python 3 (ipykernel)",
   "language": "python",
   "name": "python3"
  },
  "language_info": {
   "codemirror_mode": {
    "name": "ipython",
    "version": 3
   },
   "file_extension": ".py",
   "mimetype": "text/x-python",
   "name": "python",
   "nbconvert_exporter": "python",
   "pygments_lexer": "ipython3",
   "version": "3.10.9"
  }
 },
 "nbformat": 4,
 "nbformat_minor": 4
}
